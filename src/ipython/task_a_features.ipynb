{
 "cells": [
  {
   "cell_type": "code",
   "execution_count": 1,
   "metadata": {
    "collapsed": true
   },
   "outputs": [],
   "source": [
    "%load_ext autoreload\n",
    "%autoreload 2"
   ]
  },
  {
   "cell_type": "code",
   "execution_count": 2,
   "metadata": {},
   "outputs": [
    {
     "name": "stdout",
     "output_type": "stream",
     "text": [
      "C:\\Users\\user\\Downloads\\cs474-master (5)\\cs474-final\\src\\ipython\n"
     ]
    },
    {
     "name": "stderr",
     "output_type": "stream",
     "text": [
      "C:\\Users\\user\\Anaconda2\\lib\\site-packages\\gensim\\utils.py:860: UserWarning: detected Windows; aliasing chunkize to chunkize_serial\n",
      "  warnings.warn(\"detected Windows; aliasing chunkize to chunkize_serial\")\n"
     ]
    }
   ],
   "source": [
    "import sys\n",
    "import os\n",
    "print os.getcwd()\n",
    "src_path = os.path.abspath(os.getcwd() + '/../../')\n",
    "sys.path.insert(0, src_path)\n",
    "\n",
    "from src import preprocessing\n",
    "from src import pre_task_bc_lda as pre\n",
    "from src import features\n",
    "from src import measurements"
   ]
  },
  {
   "cell_type": "markdown",
   "metadata": {},
   "source": [
    "# Experiment: Characteristics of tweets as features"
   ]
  },
  {
   "cell_type": "markdown",
   "metadata": {},
   "source": [
    "In this experiment we use the list of linguistic, syntactic and other characteristics of tweets to convert each tweet into vectors. The list of features is presented below:\n",
    "\n",
    "1.  number of words\n",
    "2.  fraction of positive words\n",
    "3.  fraction of negative words\n",
    "4.  fraction of adjectives\n",
    "5.  fraction of verbs\n",
    "6.  fraction of nouns\n",
    "7.  number of links\n",
    "8.  number of mentions\n",
    "9.  number of emoticons\n",
    "10. number of numbers\n",
    "11. presence of intensifier before positive word\n",
    "12. presence of intensifier before negative word\n",
    "13. negation of positive word\n",
    "14. negation of negative word\n",
    "15. tweet written in future tense\n",
    "16. presence of modal verbs\n",
    "17. presence of 1st person pronouns\n",
    "18. position of positive word\n",
    "19. position of negative word\n",
    "20. has exclamation\n",
    "\n",
    "For polarity classification following algorithms are used:\n",
    "\n",
    "* Logistic regression\n",
    "\n",
    "* Multinomial NB"
   ]
  },
  {
   "cell_type": "markdown",
   "metadata": {},
   "source": [
    "## Preprocessing and tokenization"
   ]
  },
  {
   "cell_type": "code",
   "execution_count": 6,
   "metadata": {},
   "outputs": [
    {
     "name": "stderr",
     "output_type": "stream",
     "text": [
      "100%|████████████████████████████████| 11633/11633 [00:00<00:00, 147253.17it/s]\n",
      "100%|████████████████████████████████| 16341/16341 [00:00<00:00, 127664.04it/s]\n"
     ]
    }
   ],
   "source": [
    "train_a = preprocessing.open_preprocess_file('train', 'A')\n",
    "test_a=preprocessing.open_preprocess_file('test', 'A')\n",
    "tok_list=preprocessing.get_token_for_each_tweet(train_a['CLEANED'])\n",
    "tok_list_test=preprocessing.get_token_for_each_tweet(test_a['CLEANED'])"
   ]
  },
  {
   "cell_type": "markdown",
   "metadata": {},
   "source": [
    "## Converting tweet into feature vector. Training with logistic regression"
   ]
  },
  {
   "cell_type": "code",
   "execution_count": 7,
   "metadata": {},
   "outputs": [
    {
     "name": "stdout",
     "output_type": "stream",
     "text": [
      "total polarity split train\n",
      "positive    4525\n",
      "neutral     3430\n",
      "negative    1351\n",
      "Name: POLARITY, dtype: int64\n",
      "total polarity split test\n",
      "positive    1100\n",
      "neutral      892\n",
      "negative     335\n",
      "Name: POLARITY, dtype: int64\n"
     ]
    },
    {
     "name": "stderr",
     "output_type": "stream",
     "text": [
      "C:\\Users\\user\\Anaconda2\\lib\\site-packages\\sklearn\\linear_model\\sag.py:326: ConvergenceWarning: The max_iter was reached which means the coef_ did not converge\n",
      "  \"the coef_ did not converge\", ConvergenceWarning)\n"
     ]
    },
    {
     "name": "stdout",
     "output_type": "stream",
     "text": [
      ">> model score: \n",
      "0.542758917061\n",
      ">> model report: \n",
      "      POLARITY PREDICTION\n",
      "0      neutral    neutral\n",
      "1      neutral    neutral\n",
      "2      neutral   positive\n",
      "3     positive    neutral\n",
      "4      neutral    neutral\n",
      "5     positive   positive\n",
      "6     positive   positive\n",
      "7      neutral   positive\n",
      "8     negative    neutral\n",
      "9     negative   negative\n",
      "10     neutral    neutral\n",
      "11    positive   positive\n",
      "12     neutral    neutral\n",
      "13    negative    neutral\n",
      "14     neutral   positive\n",
      "15    negative    neutral\n",
      "16     neutral    neutral\n",
      "17     neutral    neutral\n",
      "18    positive   positive\n",
      "19    positive   positive\n",
      "20    positive   positive\n",
      "21     neutral   positive\n",
      "22     neutral    neutral\n",
      "23    positive   positive\n",
      "24    positive   positive\n",
      "25     neutral    neutral\n",
      "26    positive   positive\n",
      "27    negative   negative\n",
      "28    positive    neutral\n",
      "29     neutral    neutral\n",
      "...        ...        ...\n",
      "2297  positive   positive\n",
      "2298  negative    neutral\n",
      "2299  positive    neutral\n",
      "2300  positive   positive\n",
      "2301   neutral    neutral\n",
      "2302  negative   positive\n",
      "2303  positive    neutral\n",
      "2304   neutral    neutral\n",
      "2305   neutral   positive\n",
      "2306   neutral   positive\n",
      "2307  positive   positive\n",
      "2308   neutral   positive\n",
      "2309   neutral    neutral\n",
      "2310   neutral    neutral\n",
      "2311  positive   positive\n",
      "2312   neutral    neutral\n",
      "2313  positive   positive\n",
      "2314  positive   positive\n",
      "2315  positive   positive\n",
      "2316   neutral    neutral\n",
      "2317   neutral    neutral\n",
      "2318   neutral   positive\n",
      "2319   neutral   positive\n",
      "2320  positive   positive\n",
      "2321  negative   negative\n",
      "2322   neutral    neutral\n",
      "2323  positive   positive\n",
      "2324   neutral    neutral\n",
      "2325  negative   positive\n",
      "2326  positive    neutral\n",
      "\n",
      "[2327 rows x 2 columns]\n",
      "             precision    recall  f1-score   support\n",
      "\n",
      "   negative       0.30      0.07      0.12       335\n",
      "    neutral       0.50      0.52      0.51       892\n",
      "   positive       0.59      0.70      0.64      1100\n",
      "\n",
      "avg / total       0.51      0.54      0.52      2327\n",
      "\n"
     ]
    }
   ],
   "source": [
    "train=[]\n",
    "polarity_train=train_a['POLARITY']\n",
    "for i in tok_list:\n",
    "    tokens=i[0]\n",
    "    word_count=i[1]\n",
    "    vec= features.build_feature_vector(tokens, word_count)\n",
    "    train.append(vec)\n",
    "train_model =pre.classify('logres',train, polarity_train,multi=True, tuning=False)"
   ]
  },
  {
   "cell_type": "markdown",
   "metadata": {},
   "source": [
    "## Converting test tweets into feature vectors and testing the model"
   ]
  },
  {
   "cell_type": "code",
   "execution_count": 16,
   "metadata": {},
   "outputs": [
    {
     "name": "stdout",
     "output_type": "stream",
     "text": [
      ">> model score: \n",
      "0.521265528425\n",
      ">> model report: \n",
      "       POLARITY PREDICTION\n",
      "0       neutral    neutral\n",
      "1       neutral   positive\n",
      "2       neutral    neutral\n",
      "3      positive    neutral\n",
      "4      positive   negative\n",
      "5      positive    neutral\n",
      "6       neutral    neutral\n",
      "7      positive   positive\n",
      "8       neutral    neutral\n",
      "9       neutral    neutral\n",
      "10      neutral   negative\n",
      "11      neutral    neutral\n",
      "12      neutral   negative\n",
      "13     positive    neutral\n",
      "14      neutral    neutral\n",
      "15      neutral   positive\n",
      "16      neutral   positive\n",
      "17      neutral    neutral\n",
      "18      neutral    neutral\n",
      "19     positive   positive\n",
      "20      neutral    neutral\n",
      "21     positive   positive\n",
      "22     positive   positive\n",
      "23     positive   positive\n",
      "24      neutral   positive\n",
      "25      neutral   positive\n",
      "26     positive   positive\n",
      "27      neutral    neutral\n",
      "28     positive   positive\n",
      "29      neutral    neutral\n",
      "...         ...        ...\n",
      "16311  positive   positive\n",
      "16312   neutral   positive\n",
      "16313  negative   negative\n",
      "16314  negative    neutral\n",
      "16315   neutral    neutral\n",
      "16316   neutral    neutral\n",
      "16317   neutral   positive\n",
      "16318  negative    neutral\n",
      "16319  positive   positive\n",
      "16320  positive   positive\n",
      "16321  negative   positive\n",
      "16322  positive    neutral\n",
      "16323   neutral    neutral\n",
      "16324   neutral   positive\n",
      "16325   neutral   positive\n",
      "16326  positive   positive\n",
      "16327   neutral   positive\n",
      "16328  positive    neutral\n",
      "16329  positive   positive\n",
      "16330   neutral   positive\n",
      "16331   neutral    neutral\n",
      "16332   neutral   positive\n",
      "16333   neutral    neutral\n",
      "16334   neutral    neutral\n",
      "16335   neutral    neutral\n",
      "16336   neutral   positive\n",
      "16337  positive   positive\n",
      "16338   neutral    neutral\n",
      "16339  negative   positive\n",
      "16340   neutral   positive\n",
      "\n",
      "[16341 rows x 2 columns]\n",
      "             precision    recall  f1-score   support\n",
      "\n",
      "   negative       0.42      0.11      0.17      2434\n",
      "    neutral       0.62      0.49      0.55      8249\n",
      "   positive       0.46      0.75      0.57      5658\n",
      "\n",
      "avg / total       0.54      0.52      0.50     16341\n",
      "\n",
      ">> accuracy:\n",
      "0.521265528425\n",
      ">> average recall:\n",
      "0.448091806189\n",
      ">> f_pn:\n",
      "0.518732697631\n"
     ]
    },
    {
     "data": {
      "text/plain": [
       "0.5187326976314981"
      ]
     },
     "execution_count": 16,
     "metadata": {},
     "output_type": "execute_result"
    }
   ],
   "source": [
    "test=[]\n",
    "polarity_test=test_a['POLARITY']\n",
    "for i in tok_list_test:\n",
    "    tokens=i[0]\n",
    "    word_count=i[1]\n",
    "    vec= features.build_feature_vector(tokens, word_count)\n",
    "    test.append(vec)\n",
    "\n",
    "prediction = measurements.predict(test, polarity_test, train_model)\n",
    "measurements.get_accuracy(prediction)\n",
    "measurements.avg_recall(prediction)\n",
    "measurements.f_pn_measurement(prediction)"
   ]
  },
  {
   "cell_type": "markdown",
   "metadata": {},
   "source": [
    "## Training Multinomial NB classifier"
   ]
  },
  {
   "cell_type": "code",
   "execution_count": 15,
   "metadata": {
    "scrolled": false
   },
   "outputs": [
    {
     "name": "stdout",
     "output_type": "stream",
     "text": [
      "total polarity split train\n",
      "positive    2837\n",
      "neutral     2127\n",
      "negative     852\n",
      "Name: POLARITY, dtype: int64\n",
      "total polarity split test\n",
      "positive    2788\n",
      "neutral     2195\n",
      "negative     834\n",
      "Name: POLARITY, dtype: int64\n",
      "{'alpha': 1.0, 'fit_prior': True, 'class_prior': None}\n",
      ">> model score: \n",
      "0.49131854908\n",
      ">> model report: \n",
      "      POLARITY PREDICTION\n",
      "0      neutral    neutral\n",
      "1      neutral   negative\n",
      "2      neutral    neutral\n",
      "3     positive    neutral\n",
      "4      neutral    neutral\n",
      "5     positive   positive\n",
      "6     positive   positive\n",
      "7      neutral    neutral\n",
      "8     negative    neutral\n",
      "9     negative   negative\n",
      "10     neutral    neutral\n",
      "11    positive    neutral\n",
      "12     neutral   negative\n",
      "13    negative   negative\n",
      "14     neutral   positive\n",
      "15    negative   negative\n",
      "16     neutral    neutral\n",
      "17     neutral    neutral\n",
      "18    positive    neutral\n",
      "19    positive   positive\n",
      "20    positive   positive\n",
      "21     neutral   negative\n",
      "22     neutral   negative\n",
      "23    positive    neutral\n",
      "24    positive   positive\n",
      "25     neutral    neutral\n",
      "26    positive    neutral\n",
      "27    negative   negative\n",
      "28    positive    neutral\n",
      "29     neutral    neutral\n",
      "...        ...        ...\n",
      "5787   neutral   negative\n",
      "5788  negative   negative\n",
      "5789  positive    neutral\n",
      "5790  positive   negative\n",
      "5791  positive   positive\n",
      "5792  negative    neutral\n",
      "5793  positive   positive\n",
      "5794  positive   positive\n",
      "5795   neutral    neutral\n",
      "5796   neutral   positive\n",
      "5797  positive    neutral\n",
      "5798  positive   negative\n",
      "5799  positive   positive\n",
      "5800  positive    neutral\n",
      "5801   neutral    neutral\n",
      "5802  positive   positive\n",
      "5803  negative   positive\n",
      "5804  positive    neutral\n",
      "5805  positive    neutral\n",
      "5806   neutral    neutral\n",
      "5807  positive    neutral\n",
      "5808   neutral   positive\n",
      "5809  negative   negative\n",
      "5810  negative    neutral\n",
      "5811  negative   negative\n",
      "5812  positive   positive\n",
      "5813  positive   positive\n",
      "5814  positive   positive\n",
      "5815   neutral   negative\n",
      "5816   neutral    neutral\n",
      "\n",
      "[5817 rows x 2 columns]\n",
      "             precision    recall  f1-score   support\n",
      "\n",
      "   negative       0.27      0.38      0.31       834\n",
      "    neutral       0.47      0.56      0.51      2195\n",
      "   positive       0.66      0.47      0.55      2788\n",
      "\n",
      "avg / total       0.53      0.49      0.50      5817\n",
      "\n"
     ]
    }
   ],
   "source": [
    "train_model_mnb =pre.classify('mnb',train, polarity_train,multi=True, tuning=False)"
   ]
  },
  {
   "cell_type": "markdown",
   "metadata": {},
   "source": [
    "## Testing multinomial NB model"
   ]
  },
  {
   "cell_type": "code",
   "execution_count": 17,
   "metadata": {},
   "outputs": [
    {
     "name": "stdout",
     "output_type": "stream",
     "text": [
      ">> model score: \n",
      "0.530261305918\n",
      ">> model report: \n",
      "       POLARITY PREDICTION\n",
      "0       neutral    neutral\n",
      "1       neutral   positive\n",
      "2       neutral    neutral\n",
      "3      positive    neutral\n",
      "4      positive   negative\n",
      "5      positive    neutral\n",
      "6       neutral    neutral\n",
      "7      positive   positive\n",
      "8       neutral   negative\n",
      "9       neutral   negative\n",
      "10      neutral   negative\n",
      "11      neutral    neutral\n",
      "12      neutral   negative\n",
      "13     positive   negative\n",
      "14      neutral    neutral\n",
      "15      neutral   positive\n",
      "16      neutral   positive\n",
      "17      neutral    neutral\n",
      "18      neutral   negative\n",
      "19     positive   positive\n",
      "20      neutral   negative\n",
      "21     positive   positive\n",
      "22     positive    neutral\n",
      "23     positive   negative\n",
      "24      neutral    neutral\n",
      "25      neutral   positive\n",
      "26     positive   negative\n",
      "27      neutral    neutral\n",
      "28     positive   positive\n",
      "29      neutral    neutral\n",
      "...         ...        ...\n",
      "16311  positive   negative\n",
      "16312   neutral    neutral\n",
      "16313  negative   negative\n",
      "16314  negative   negative\n",
      "16315   neutral    neutral\n",
      "16316   neutral    neutral\n",
      "16317   neutral    neutral\n",
      "16318  negative   negative\n",
      "16319  positive   positive\n",
      "16320  positive   positive\n",
      "16321  negative   positive\n",
      "16322  positive    neutral\n",
      "16323   neutral    neutral\n",
      "16324   neutral    neutral\n",
      "16325   neutral   negative\n",
      "16326  positive   positive\n",
      "16327   neutral   negative\n",
      "16328  positive    neutral\n",
      "16329  positive   positive\n",
      "16330   neutral   positive\n",
      "16331   neutral    neutral\n",
      "16332   neutral   positive\n",
      "16333   neutral   negative\n",
      "16334   neutral    neutral\n",
      "16335   neutral    neutral\n",
      "16336   neutral   negative\n",
      "16337  positive    neutral\n",
      "16338   neutral    neutral\n",
      "16339  negative   negative\n",
      "16340   neutral   positive\n",
      "\n",
      "[16341 rows x 2 columns]\n",
      "             precision    recall  f1-score   support\n",
      "\n",
      "   negative       0.29      0.43      0.34      2434\n",
      "    neutral       0.63      0.57      0.60      8249\n",
      "   positive       0.56      0.52      0.54      5658\n",
      "\n",
      "avg / total       0.55      0.53      0.54     16341\n",
      "\n",
      ">> accuracy:\n",
      "0.530261305918\n",
      ">> average recall:\n",
      "0.504759625647\n",
      ">> f_pn:\n",
      "0.433338254835\n"
     ]
    },
    {
     "data": {
      "text/plain": [
       "0.43333825483537575"
      ]
     },
     "execution_count": 17,
     "metadata": {},
     "output_type": "execute_result"
    }
   ],
   "source": [
    "prediction = measurements.predict(test, polarity_test, train_model_mnb)\n",
    "measurements.get_accuracy(prediction)\n",
    "measurements.avg_recall(prediction)\n",
    "measurements.f_pn_measurement(prediction)"
   ]
  },
  {
   "cell_type": "code",
   "execution_count": null,
   "metadata": {
    "collapsed": true
   },
   "outputs": [],
   "source": []
  }
 ],
 "metadata": {
  "kernelspec": {
   "display_name": "Python 2",
   "language": "python",
   "name": "python2"
  },
  "language_info": {
   "codemirror_mode": {
    "name": "ipython",
    "version": 2
   },
   "file_extension": ".py",
   "mimetype": "text/x-python",
   "name": "python",
   "nbconvert_exporter": "python",
   "pygments_lexer": "ipython2",
   "version": "2.7.13"
  }
 },
 "nbformat": 4,
 "nbformat_minor": 2
}
