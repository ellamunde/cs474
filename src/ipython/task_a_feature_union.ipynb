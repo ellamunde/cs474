{
 "cells": [
  {
   "cell_type": "code",
   "execution_count": 1,
   "metadata": {
    "collapsed": true
   },
   "outputs": [],
   "source": [
    "%load_ext autoreload\n",
    "%autoreload 2"
   ]
  },
  {
   "cell_type": "code",
   "execution_count": 5,
   "metadata": {},
   "outputs": [
    {
     "name": "stdout",
     "output_type": "stream",
     "text": [
      "C:\\Users\\user\\Downloads\\cs474-master (5)\\cs474-final\\src\\ipython\n"
     ]
    }
   ],
   "source": [
    "import sys\n",
    "import os\n",
    "print os.getcwd()\n",
    "src_path = os.path.abspath(os.getcwd() + '/../../')\n",
    "sys.path.insert(0, src_path)\n",
    "from src import measurements\n",
    "from src import preprocessing\n",
    "from src import pipeline"
   ]
  },
  {
   "cell_type": "markdown",
   "metadata": {},
   "source": [
    "# Experiment: Combining bag of words and tweet features"
   ]
  },
  {
   "cell_type": "markdown",
   "metadata": {},
   "source": [
    "In this experiment we combine bag of words vector representation with tweet features such as (number of words, number of nouns, fraction of positive words, negation etc.)\n",
    "\n",
    "First we convert each tweet into vector where each token is represented by its number of occurences. We also create feature vector for the tweet. Finally with the help of Feature Union class of scikit learn library we concatenate two vectors into one. Resulted vectors are used for training classifier.\n",
    "\n",
    "For this experiment we use following classification algorithms:\n",
    "\n",
    "* Logistic regression\n",
    "* SVM\n",
    "* Multinomial naive bayesian"
   ]
  },
  {
   "cell_type": "markdown",
   "metadata": {},
   "source": [
    "## Preprocessing"
   ]
  },
  {
   "cell_type": "code",
   "execution_count": 7,
   "metadata": {},
   "outputs": [
    {
     "name": "stderr",
     "output_type": "stream",
     "text": [
      "100%|███████████████████████████████████| 11692/11692 [00:45<00:00, 257.21it/s]\n",
      "100%|███████████████████████████████████| 16398/16398 [01:10<00:00, 233.50it/s]\n"
     ]
    }
   ],
   "source": [
    "dataset = 'A'\n",
    "train = preprocessing.get_data('train', dataset)\n",
    "test = preprocessing.get_data('test', dataset)\n",
    "\n",
    "matrix=train['CLEANED']\n",
    "polarity=train['POLARITY']\n",
    "matrix_test=test['CLEANED']\n",
    "polarity_test=test['POLARITY']"
   ]
  },
  {
   "cell_type": "markdown",
   "metadata": {},
   "source": [
    "## Training with logistic regression"
   ]
  },
  {
   "cell_type": "code",
   "execution_count": 15,
   "metadata": {},
   "outputs": [
    {
     "name": "stdout",
     "output_type": "stream",
     "text": [
      "total polarity split train\n",
      "positive    4525\n",
      "neutral     3430\n",
      "negative    1351\n",
      "Name: POLARITY, dtype: int64\n",
      "total polarity split test\n",
      "positive    1100\n",
      "neutral      892\n",
      "negative     335\n",
      "Name: POLARITY, dtype: int64\n"
     ]
    },
    {
     "name": "stderr",
     "output_type": "stream",
     "text": [
      "C:\\Users\\user\\Anaconda2\\lib\\site-packages\\sklearn\\linear_model\\sag.py:326: ConvergenceWarning: The max_iter was reached which means the coef_ did not converge\n",
      "  \"the coef_ did not converge\", ConvergenceWarning)\n"
     ]
    },
    {
     "name": "stdout",
     "output_type": "stream",
     "text": [
      ">> model score: \n",
      "0.605930382467\n",
      ">> model report: \n",
      "      POLARITY PREDICTION\n",
      "0      neutral    neutral\n",
      "1      neutral    neutral\n",
      "2      neutral   positive\n",
      "3     positive    neutral\n",
      "4      neutral   positive\n",
      "5     positive   positive\n",
      "6     positive    neutral\n",
      "7      neutral   positive\n",
      "8     negative    neutral\n",
      "9     negative   negative\n",
      "10     neutral    neutral\n",
      "11    positive   positive\n",
      "12     neutral    neutral\n",
      "13    negative    neutral\n",
      "14     neutral   positive\n",
      "15    negative    neutral\n",
      "16     neutral   positive\n",
      "17     neutral    neutral\n",
      "18    positive   positive\n",
      "19    positive    neutral\n",
      "20    positive   positive\n",
      "21     neutral   positive\n",
      "22     neutral    neutral\n",
      "23    positive    neutral\n",
      "24    positive   negative\n",
      "25     neutral    neutral\n",
      "26    positive   positive\n",
      "27    negative    neutral\n",
      "28    positive   positive\n",
      "29     neutral    neutral\n",
      "...        ...        ...\n",
      "2297  positive   positive\n",
      "2298  negative   positive\n",
      "2299  positive   positive\n",
      "2300  positive   positive\n",
      "2301   neutral    neutral\n",
      "2302  negative    neutral\n",
      "2303  positive   positive\n",
      "2304   neutral   positive\n",
      "2305   neutral   positive\n",
      "2306   neutral   positive\n",
      "2307  positive   positive\n",
      "2308   neutral   positive\n",
      "2309   neutral   positive\n",
      "2310   neutral    neutral\n",
      "2311  positive   positive\n",
      "2312   neutral   positive\n",
      "2313  positive   positive\n",
      "2314  positive   positive\n",
      "2315  positive   positive\n",
      "2316   neutral    neutral\n",
      "2317   neutral    neutral\n",
      "2318   neutral   positive\n",
      "2319   neutral    neutral\n",
      "2320  positive   positive\n",
      "2321  negative   negative\n",
      "2322   neutral    neutral\n",
      "2323  positive   positive\n",
      "2324   neutral   positive\n",
      "2325  negative    neutral\n",
      "2326  positive    neutral\n",
      "\n",
      "[2327 rows x 2 columns]\n",
      "             precision    recall  f1-score   support\n",
      "\n",
      "   negative       0.52      0.29      0.37       335\n",
      "    neutral       0.55      0.55      0.55       892\n",
      "   positive       0.66      0.75      0.70      1100\n",
      "\n",
      "avg / total       0.60      0.61      0.60      2327\n",
      "\n"
     ]
    }
   ],
   "source": [
    "model,pipeline_model= pipeline.split_and_train(matrix, polarity, classifier=\"logres\")"
   ]
  },
  {
   "cell_type": "markdown",
   "metadata": {},
   "source": [
    "## Testing Logistic regression model"
   ]
  },
  {
   "cell_type": "code",
   "execution_count": 16,
   "metadata": {},
   "outputs": [
    {
     "name": "stdout",
     "output_type": "stream",
     "text": [
      ">> model score: \n",
      "0.580992595312\n",
      ">> model report: \n",
      "       POLARITY PREDICTION\n",
      "0       neutral   positive\n",
      "1       neutral    neutral\n",
      "2       neutral    neutral\n",
      "3      positive   positive\n",
      "4      positive   negative\n",
      "5      positive   positive\n",
      "6       neutral    neutral\n",
      "7      positive   positive\n",
      "8       neutral    neutral\n",
      "9       neutral    neutral\n",
      "10      neutral   negative\n",
      "11      neutral    neutral\n",
      "12      neutral    neutral\n",
      "13     positive    neutral\n",
      "14      neutral    neutral\n",
      "15      neutral   positive\n",
      "16      neutral   positive\n",
      "17      neutral    neutral\n",
      "18      neutral    neutral\n",
      "19     positive   positive\n",
      "20      neutral    neutral\n",
      "21     positive   positive\n",
      "22     positive   positive\n",
      "23     positive   positive\n",
      "24      neutral    neutral\n",
      "25      neutral   negative\n",
      "26     positive   positive\n",
      "27      neutral    neutral\n",
      "28     positive   positive\n",
      "29      neutral    neutral\n",
      "...         ...        ...\n",
      "16311  positive   positive\n",
      "16312   neutral   positive\n",
      "16313  negative   negative\n",
      "16314  negative   negative\n",
      "16315   neutral    neutral\n",
      "16316   neutral    neutral\n",
      "16317   neutral    neutral\n",
      "16318  negative    neutral\n",
      "16319  positive   positive\n",
      "16320  positive   positive\n",
      "16321  negative   positive\n",
      "16322  positive    neutral\n",
      "16323   neutral    neutral\n",
      "16324   neutral    neutral\n",
      "16325   neutral    neutral\n",
      "16326  positive   positive\n",
      "16327   neutral    neutral\n",
      "16328  positive    neutral\n",
      "16329  positive   positive\n",
      "16330   neutral    neutral\n",
      "16331   neutral    neutral\n",
      "16332   neutral   positive\n",
      "16333   neutral   negative\n",
      "16334   neutral    neutral\n",
      "16335   neutral   positive\n",
      "16336   neutral    neutral\n",
      "16337  positive   positive\n",
      "16338   neutral    neutral\n",
      "16339  negative   positive\n",
      "16340   neutral   negative\n",
      "\n",
      "[16341 rows x 2 columns]\n",
      "             precision    recall  f1-score   support\n",
      "\n",
      "   negative       0.47      0.22      0.30      2434\n",
      "    neutral       0.64      0.59      0.61      8249\n",
      "   positive       0.54      0.73      0.62      5658\n",
      "\n",
      "avg / total       0.58      0.58      0.57     16341\n",
      "\n",
      ">> accuracy:\n",
      "0.580992595312\n",
      ">> average recall:\n",
      "0.511440533221\n",
      ">> f_pn:\n",
      "0.547126132681\n"
     ]
    },
    {
     "data": {
      "text/plain": [
       "0.5471261326807328"
      ]
     },
     "execution_count": 16,
     "metadata": {},
     "output_type": "execute_result"
    }
   ],
   "source": [
    "#testing\n",
    "prediction= pipeline.predict(model, pipeline_model, matrix_test, polarity_test)\n",
    "measurements.get_accuracy(prediction)\n",
    "measurements.avg_recall(prediction)\n",
    "measurements.f_pn_measurement(prediction)"
   ]
  },
  {
   "cell_type": "markdown",
   "metadata": {},
   "source": [
    "## Training with Multinomial NB"
   ]
  },
  {
   "cell_type": "code",
   "execution_count": 10,
   "metadata": {
    "scrolled": false
   },
   "outputs": [
    {
     "name": "stdout",
     "output_type": "stream",
     "text": [
      "total polarity split train\n",
      "positive    2837\n",
      "neutral     2127\n",
      "negative     852\n",
      "Name: POLARITY, dtype: int64\n",
      "total polarity split test\n",
      "positive    2788\n",
      "neutral     2195\n",
      "negative     834\n",
      "Name: POLARITY, dtype: int64\n",
      "# Tuning hyper-parameters\n",
      "\n"
     ]
    },
    {
     "name": "stderr",
     "output_type": "stream",
     "text": [
      "C:\\Users\\user\\Anaconda2\\lib\\site-packages\\sklearn\\naive_bayes.py:472: UserWarning: alpha too small will result in numeric errors, setting alpha = 1.0e-10\n",
      "  'setting alpha = %.1e' % _ALPHA_MIN)\n",
      "C:\\Users\\user\\Anaconda2\\lib\\site-packages\\sklearn\\metrics\\classification.py:1135: UndefinedMetricWarning: Precision is ill-defined and being set to 0.0 in labels with no predicted samples.\n",
      "  'precision', 'predicted', average, warn_for)\n",
      "C:\\Users\\user\\Anaconda2\\lib\\site-packages\\sklearn\\metrics\\classification.py:1135: UndefinedMetricWarning: Precision is ill-defined and being set to 0.0 due to no predicted samples.\n",
      "  'precision', 'predicted', average, warn_for)\n"
     ]
    },
    {
     "name": "stdout",
     "output_type": "stream",
     "text": [
      "Best parameters set found on development set:\n",
      "MultinomialNB(alpha=0.2, class_prior=None, fit_prior=True)\n",
      "\n",
      "Detailed classification report:\n",
      "\n",
      "The model is trained on the full development set.\n",
      "The scores are computed on the full evaluation set.\n",
      "\n",
      ">> model score: \n",
      "0.583333333333\n",
      ">> model report: \n",
      "      POLARITY PREDICTION\n",
      "0     negative   positive\n",
      "1     positive   positive\n",
      "2     positive    neutral\n",
      "3     negative   negative\n",
      "4     positive    neutral\n",
      "5      neutral    neutral\n",
      "6      neutral   positive\n",
      "7     positive   negative\n",
      "8     positive    neutral\n",
      "9      neutral   negative\n",
      "10     neutral   positive\n",
      "11    positive   positive\n",
      "12    positive   positive\n",
      "13    positive   positive\n",
      "14    negative    neutral\n",
      "15    positive   positive\n",
      "16    positive   positive\n",
      "17    negative   negative\n",
      "18    positive   positive\n",
      "19     neutral   positive\n",
      "20     neutral    neutral\n",
      "21    positive   positive\n",
      "22    positive   positive\n",
      "23    positive   positive\n",
      "24     neutral   negative\n",
      "25     neutral    neutral\n",
      "26    positive   positive\n",
      "27     neutral   positive\n",
      "28    positive   positive\n",
      "29     neutral    neutral\n",
      "...        ...        ...\n",
      "1134   neutral   positive\n",
      "1135  negative   negative\n",
      "1136  positive   positive\n",
      "1137  positive    neutral\n",
      "1138  positive    neutral\n",
      "1139  negative    neutral\n",
      "1140  positive    neutral\n",
      "1141   neutral   positive\n",
      "1142  positive   positive\n",
      "1143  positive   positive\n",
      "1144  positive   positive\n",
      "1145   neutral   negative\n",
      "1146  negative   negative\n",
      "1147  positive   positive\n",
      "1148   neutral    neutral\n",
      "1149  positive   positive\n",
      "1150   neutral    neutral\n",
      "1151   neutral   positive\n",
      "1152  positive   positive\n",
      "1153  positive   positive\n",
      "1154   neutral    neutral\n",
      "1155   neutral    neutral\n",
      "1156  positive   positive\n",
      "1157   neutral    neutral\n",
      "1158   neutral   positive\n",
      "1159   neutral    neutral\n",
      "1160  positive    neutral\n",
      "1161  positive   positive\n",
      "1162  positive   positive\n",
      "1163   neutral    neutral\n",
      "\n",
      "[1164 rows x 2 columns]\n",
      "             precision    recall  f1-score   support\n",
      "\n",
      "   negative       0.45      0.39      0.42       180\n",
      "    neutral       0.51      0.52      0.52       425\n",
      "   positive       0.67      0.69      0.68       559\n",
      "\n",
      "avg / total       0.58      0.58      0.58      1164\n",
      "\n",
      "{'scoring': None, 'n_jobs': 1, 'verbose': 0, 'fit_params': None, 'estimator__fit_prior': True, 'refit': True, 'pre_dispatch': '2*n_jobs', 'return_train_score': True, 'iid': True, 'estimator': MultinomialNB(alpha=1.0, class_prior=None, fit_prior=True), 'error_score': 'raise', 'estimator__alpha': 1.0, 'param_grid': [{'alpha': [0.0, 0.1, 0.2, 0.3, 0.4, 0.5, 0.6, 0.7, 0.8, 0.9, 0.9, 0.9, 0.3], 'fit_prior': [True, False, False, True, False]}], 'cv': 5, 'estimator__class_prior': None}\n",
      ">> model score: \n",
      "0.569881382156\n",
      ">> model report: \n",
      "      POLARITY PREDICTION\n",
      "0      neutral   positive\n",
      "1      neutral    neutral\n",
      "2      neutral   positive\n",
      "3     positive   positive\n",
      "4      neutral   positive\n",
      "5     positive   positive\n",
      "6     positive   positive\n",
      "7      neutral   positive\n",
      "8     negative    neutral\n",
      "9     negative   negative\n",
      "10     neutral    neutral\n",
      "11    positive    neutral\n",
      "12     neutral    neutral\n",
      "13    negative   negative\n",
      "14     neutral   positive\n",
      "15    negative   negative\n",
      "16     neutral    neutral\n",
      "17     neutral    neutral\n",
      "18    positive   positive\n",
      "19    positive   positive\n",
      "20    positive   positive\n",
      "21     neutral   positive\n",
      "22     neutral   negative\n",
      "23    positive    neutral\n",
      "24    positive    neutral\n",
      "25     neutral    neutral\n",
      "26    positive   positive\n",
      "27    negative    neutral\n",
      "28    positive   negative\n",
      "29     neutral    neutral\n",
      "...        ...        ...\n",
      "5787   neutral   positive\n",
      "5788  negative   negative\n",
      "5789  positive    neutral\n",
      "5790  positive   positive\n",
      "5791  positive    neutral\n",
      "5792  negative    neutral\n",
      "5793  positive    neutral\n",
      "5794  positive   positive\n",
      "5795   neutral    neutral\n",
      "5796   neutral    neutral\n",
      "5797  positive   positive\n",
      "5798  positive   positive\n",
      "5799  positive   positive\n",
      "5800  positive   positive\n",
      "5801   neutral   positive\n",
      "5802  positive   positive\n",
      "5803  negative    neutral\n",
      "5804  positive   positive\n",
      "5805  positive    neutral\n",
      "5806   neutral   positive\n",
      "5807  positive   positive\n",
      "5808   neutral   negative\n",
      "5809  negative    neutral\n",
      "5810  negative   positive\n",
      "5811  negative    neutral\n",
      "5812  positive   positive\n",
      "5813  positive   positive\n",
      "5814  positive   positive\n",
      "5815   neutral    neutral\n",
      "5816   neutral    neutral\n",
      "\n",
      "[5817 rows x 2 columns]\n",
      "             precision    recall  f1-score   support\n",
      "\n",
      "   negative       0.38      0.36      0.37       834\n",
      "    neutral       0.51      0.48      0.49      2195\n",
      "   positive       0.66      0.70      0.68      2788\n",
      "\n",
      "avg / total       0.56      0.57      0.57      5817\n",
      "\n"
     ]
    }
   ],
   "source": [
    "model_mnb,pipeline_model_mnb= pipeline.split_and_train(matrix, polarity, classifier=\"mnb\")"
   ]
  },
  {
   "cell_type": "markdown",
   "metadata": {},
   "source": [
    "## Testing Multinomial NB model"
   ]
  },
  {
   "cell_type": "code",
   "execution_count": 17,
   "metadata": {},
   "outputs": [
    {
     "name": "stdout",
     "output_type": "stream",
     "text": [
      ">> model score: \n",
      "0.507312893948\n",
      ">> model report: \n",
      "       POLARITY PREDICTION\n",
      "0       neutral   positive\n",
      "1       neutral   positive\n",
      "2       neutral    neutral\n",
      "3      positive   positive\n",
      "4      positive   negative\n",
      "5      positive   positive\n",
      "6       neutral    neutral\n",
      "7      positive   positive\n",
      "8       neutral    neutral\n",
      "9       neutral    neutral\n",
      "10      neutral    neutral\n",
      "11      neutral    neutral\n",
      "12      neutral    neutral\n",
      "13     positive   positive\n",
      "14      neutral   positive\n",
      "15      neutral   positive\n",
      "16      neutral   positive\n",
      "17      neutral    neutral\n",
      "18      neutral    neutral\n",
      "19     positive   positive\n",
      "20      neutral    neutral\n",
      "21     positive   positive\n",
      "22     positive   positive\n",
      "23     positive   positive\n",
      "24      neutral    neutral\n",
      "25      neutral   positive\n",
      "26     positive   positive\n",
      "27      neutral   positive\n",
      "28     positive   positive\n",
      "29      neutral    neutral\n",
      "...         ...        ...\n",
      "16311  positive   positive\n",
      "16312   neutral   positive\n",
      "16313  negative   negative\n",
      "16314  negative   negative\n",
      "16315   neutral    neutral\n",
      "16316   neutral    neutral\n",
      "16317   neutral    neutral\n",
      "16318  negative    neutral\n",
      "16319  positive   positive\n",
      "16320  positive   positive\n",
      "16321  negative   positive\n",
      "16322  positive    neutral\n",
      "16323   neutral    neutral\n",
      "16324   neutral    neutral\n",
      "16325   neutral    neutral\n",
      "16326  positive   positive\n",
      "16327   neutral    neutral\n",
      "16328  positive    neutral\n",
      "16329  positive   positive\n",
      "16330   neutral   positive\n",
      "16331   neutral    neutral\n",
      "16332   neutral   positive\n",
      "16333   neutral    neutral\n",
      "16334   neutral    neutral\n",
      "16335   neutral   positive\n",
      "16336   neutral    neutral\n",
      "16337  positive   positive\n",
      "16338   neutral    neutral\n",
      "16339  negative   negative\n",
      "16340   neutral   positive\n",
      "\n",
      "[16341 rows x 2 columns]\n",
      "             precision    recall  f1-score   support\n",
      "\n",
      "   negative       0.51      0.09      0.15      2434\n",
      "    neutral       0.62      0.41      0.49      8249\n",
      "   positive       0.45      0.83      0.58      5658\n",
      "\n",
      "avg / total       0.54      0.51      0.47     16341\n",
      "\n",
      ">> accuracy:\n",
      "0.507312893948\n",
      ">> average recall:\n",
      "0.443026352752\n",
      ">> f_pn:\n",
      "0.538703947745\n"
     ]
    },
    {
     "data": {
      "text/plain": [
       "0.5387039477453732"
      ]
     },
     "execution_count": 17,
     "metadata": {},
     "output_type": "execute_result"
    }
   ],
   "source": [
    "#testing\n",
    "prediction= pipeline.predict(model_mnb, pipeline_model_mnb, matrix_test, polarity_test)\n",
    "\n",
    "measurements.get_accuracy(prediction)\n",
    "measurements.avg_recall(prediction)\n",
    "measurements.f_pn_measurement(prediction)"
   ]
  },
  {
   "cell_type": "code",
   "execution_count": null,
   "metadata": {
    "collapsed": true
   },
   "outputs": [],
   "source": []
  }
 ],
 "metadata": {
  "kernelspec": {
   "display_name": "Python 2",
   "language": "python",
   "name": "python2"
  },
  "language_info": {
   "codemirror_mode": {
    "name": "ipython",
    "version": 2
   },
   "file_extension": ".py",
   "mimetype": "text/x-python",
   "name": "python",
   "nbconvert_exporter": "python",
   "pygments_lexer": "ipython2",
   "version": "2.7.13"
  }
 },
 "nbformat": 4,
 "nbformat_minor": 2
}
