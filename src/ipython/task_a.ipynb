{
 "cells": [
  {
   "cell_type": "code",
   "execution_count": 1,
   "metadata": {},
   "outputs": [],
   "source": [
    "%load_ext autoreload\n",
    "%autoreload 2"
   ]
  },
  {
   "cell_type": "code",
   "execution_count": 6,
   "metadata": {},
   "outputs": [
    {
     "name": "stdout",
     "output_type": "stream",
     "text": [
      "/Users/munde/PycharmProjects/cs474\n"
     ]
    }
   ],
   "source": [
    "import sys\n",
    "import os\n",
    "print os.getcwd()\n",
    "src_path = os.path.abspath(os.getcwd() + '/../../')\n",
    "sys.path.insert(0, src_path)\n",
    "\n",
    "import src.preprocessing as preprocessing\n",
    "import src.wordnet as wordnet\n",
    "import re\n",
    "import src.measurements as measurements"
   ]
  },
  {
   "cell_type": "markdown",
   "metadata": {},
   "source": [
    "# Experiment Base: Count the Tokens"
   ]
  },
  {
   "cell_type": "markdown",
   "metadata": {},
   "source": [
    "## Load the Data"
   ]
  },
  {
   "cell_type": "code",
   "execution_count": 3,
   "metadata": {},
   "outputs": [
    {
     "name": "stderr",
     "output_type": "stream",
     "text": [
      "100%|██████████| 11633/11633 [00:00<00:00, 125357.02it/s]\n",
      "100%|██████████| 16341/16341 [00:00<00:00, 165463.51it/s]\n"
     ]
    }
   ],
   "source": [
    "dataset = 'A'\n",
    "input_from_file = pre.get_data('train', dataset)\n",
    "test_set = pre.get_data('test', dataset)"
   ]
  },
  {
   "cell_type": "markdown",
   "metadata": {},
   "source": [
    "## Preprocess Into Tokens"
   ]
  },
  {
   "cell_type": "code",
   "execution_count": 7,
   "metadata": {},
   "outputs": [
    {
     "ename": "IndexError",
     "evalue": "string index out of range",
     "output_type": "error",
     "traceback": [
      "\u001b[0;31m---------------------------------------------------------------------------\u001b[0m",
      "\u001b[0;31mIndexError\u001b[0m                                Traceback (most recent call last)",
      "\u001b[0;32m<ipython-input-7-f5555717b9ea>\u001b[0m in \u001b[0;36m<module>\u001b[0;34m()\u001b[0m\n\u001b[1;32m     14\u001b[0m \u001b[0;34m\u001b[0m\u001b[0m\n\u001b[1;32m     15\u001b[0m \u001b[0;31m# adding synonyms\u001b[0m\u001b[0;34m\u001b[0m\u001b[0;34m\u001b[0m\u001b[0m\n\u001b[0;32m---> 16\u001b[0;31m \u001b[0msyn_pos\u001b[0m \u001b[0;34m=\u001b[0m \u001b[0mwordnet\u001b[0m\u001b[0;34m.\u001b[0m\u001b[0madd_synonyms\u001b[0m\u001b[0;34m(\u001b[0m\u001b[0mtokens_pos\u001b[0m\u001b[0;34m)\u001b[0m\u001b[0;34m\u001b[0m\u001b[0m\n\u001b[0m\u001b[1;32m     17\u001b[0m \u001b[0msyn_neg\u001b[0m \u001b[0;34m=\u001b[0m \u001b[0mwordnet\u001b[0m\u001b[0;34m.\u001b[0m\u001b[0madd_synonyms\u001b[0m\u001b[0;34m(\u001b[0m\u001b[0mtokens_neg\u001b[0m\u001b[0;34m)\u001b[0m\u001b[0;34m\u001b[0m\u001b[0m\n\u001b[1;32m     18\u001b[0m \u001b[0msyn_neu\u001b[0m \u001b[0;34m=\u001b[0m \u001b[0mwordnet\u001b[0m\u001b[0;34m.\u001b[0m\u001b[0madd_synonyms\u001b[0m\u001b[0;34m(\u001b[0m\u001b[0mtokens_neu\u001b[0m\u001b[0;34m)\u001b[0m\u001b[0;34m\u001b[0m\u001b[0m\n",
      "\u001b[0;32m/Users/munde/PycharmProjects/cs474/src/wordnet.pyc\u001b[0m in \u001b[0;36madd_synonyms\u001b[0;34m(tokens)\u001b[0m\n\u001b[1;32m     45\u001b[0m         \u001b[0;32mif\u001b[0m \u001b[0;34m\"_\"\u001b[0m \u001b[0;32min\u001b[0m \u001b[0mtoken\u001b[0m\u001b[0;34m[\u001b[0m\u001b[0;36m0\u001b[0m\u001b[0;34m]\u001b[0m\u001b[0;34m:\u001b[0m\u001b[0;34m\u001b[0m\u001b[0m\n\u001b[1;32m     46\u001b[0m             \u001b[0mtoken\u001b[0m \u001b[0;34m=\u001b[0m \u001b[0mtoken\u001b[0m\u001b[0;34m[\u001b[0m\u001b[0;36m0\u001b[0m\u001b[0;34m]\u001b[0m\u001b[0;34m.\u001b[0m\u001b[0msplit\u001b[0m\u001b[0;34m(\u001b[0m\u001b[0;34m\"_\"\u001b[0m\u001b[0;34m)\u001b[0m\u001b[0;34m[\u001b[0m\u001b[0;36m0\u001b[0m\u001b[0;34m]\u001b[0m\u001b[0;34m\u001b[0m\u001b[0m\n\u001b[0;32m---> 47\u001b[0;31m             \u001b[0msynonyms\u001b[0m \u001b[0;34m=\u001b[0m \u001b[0msynonyms\u001b[0m \u001b[0;34m+\u001b[0m \u001b[0mget_antonyms\u001b[0m\u001b[0;34m(\u001b[0m\u001b[0mtoken\u001b[0m\u001b[0;34m[\u001b[0m\u001b[0;36m0\u001b[0m\u001b[0;34m]\u001b[0m\u001b[0;34m,\u001b[0m \u001b[0mtoken\u001b[0m\u001b[0;34m[\u001b[0m\u001b[0;36m1\u001b[0m\u001b[0;34m]\u001b[0m\u001b[0;34m)\u001b[0m\u001b[0;34m\u001b[0m\u001b[0m\n\u001b[0m\u001b[1;32m     48\u001b[0m         \u001b[0;32melse\u001b[0m\u001b[0;34m:\u001b[0m\u001b[0;34m\u001b[0m\u001b[0m\n\u001b[1;32m     49\u001b[0m             \u001b[0msynonyms\u001b[0m \u001b[0;34m=\u001b[0m \u001b[0msynonyms\u001b[0m \u001b[0;34m+\u001b[0m \u001b[0mget_synonyms\u001b[0m\u001b[0;34m(\u001b[0m\u001b[0mtoken\u001b[0m\u001b[0;34m[\u001b[0m\u001b[0;36m0\u001b[0m\u001b[0;34m]\u001b[0m\u001b[0;34m,\u001b[0m \u001b[0mtoken\u001b[0m\u001b[0;34m[\u001b[0m\u001b[0;36m1\u001b[0m\u001b[0;34m]\u001b[0m\u001b[0;34m)\u001b[0m\u001b[0;34m\u001b[0m\u001b[0m\n",
      "\u001b[0;31mIndexError\u001b[0m: string index out of range"
     ]
    }
   ],
   "source": [
    "pos = \"positive\"\n",
    "neg = \"negative\"\n",
    "neu = \"neutral\"\n",
    "\n",
    "# get tokens for all class\n",
    "tokens_pos = preprocessing.get_tokens(input_from_file, pos, 'CLEANED')\n",
    "tokens_neg = preprocessing.get_tokens(input_from_file, neg, 'CLEANED')\n",
    "tokens_neu = preprocessing.get_tokens(input_from_file, neu, 'CLEANED')\n",
    "\n",
    "# remove sentence boundary\n",
    "tokens_pos = [tt for t in tokens_pos for tt in t]\n",
    "tokens_neg = [tt for t in tokens_neg for tt in t]\n",
    "tokens_neu = [tt for t in tokens_neu for tt in t]\n",
    "\n",
    "# adding synonyms\n",
    "syn_pos = wordnet.add_synonyms(tokens_pos)\n",
    "syn_neg = wordnet.add_synonyms(tokens_neg)\n",
    "syn_neu = wordnet.add_synonyms(tokens_neu)\n",
    "\n",
    "# adding antonyms\n",
    "ant_syn_pos = wordnet.add_antonyms(syn_pos, syn_neg)\n",
    "ant_syn_neg = wordnet.add_antonyms(syn_neg, syn_pos)\n",
    "\n",
    "final_pos = preprocessing.filter_tokens(ant_syn_pos, set(ant_syn_neg)| set(syn_neu))\n",
    "final_neg = preprocessing.filter_tokens(ant_syn_neg, set(ant_syn_pos)| set(syn_neu))\n",
    "final_neu = preprocessing.filter_tokens(syn_neu, set(ant_syn_neg)| set(ant_syn_pos))\n",
    "\n",
    "final_lemma_pos = wordnet.lemmatize_words(final_pos)\n",
    "final_lemma_neg = wordnet.lemmatize_words(final_neg)\n",
    "final_lemma_neu = wordnet.lemmatize_words(final_neu)\n",
    "\n",
    "final_tokens_pos = preprocessing.remove_stopwords(preprocessing.get_tokens_only(final_lemma_pos))\n",
    "final_tokens_neg = preprocessing.remove_stopwords(preprocessing.get_tokens_only(final_lemma_neg))\n",
    "final_tokens_neu = preprocessing.remove_stopwords(preprocessing.get_tokens_only(final_lemma_neu))"
   ]
  },
  {
   "cell_type": "code",
   "execution_count": null,
   "metadata": {},
   "outputs": [],
   "source": [
    "prediction = test_sentiment(test_set, final_tokens_pos, final_tokens_neg)"
   ]
  }
 ],
 "metadata": {
  "kernelspec": {
   "display_name": "Python 2",
   "language": "python",
   "name": "python2"
  },
  "language_info": {
   "codemirror_mode": {
    "name": "ipython",
    "version": 2
   },
   "file_extension": ".py",
   "mimetype": "text/x-python",
   "name": "python",
   "nbconvert_exporter": "python",
   "pygments_lexer": "ipython2",
   "version": "2.7.10"
  }
 },
 "nbformat": 4,
 "nbformat_minor": 2
}
