{
 "cells": [
  {
   "cell_type": "code",
   "execution_count": 1,
   "metadata": {
    "collapsed": true
   },
   "outputs": [],
   "source": [
    "%load_ext autoreload\n",
    "%autoreload 2"
   ]
  },
  {
   "cell_type": "code",
   "execution_count": 2,
   "metadata": {},
   "outputs": [
    {
     "name": "stdout",
     "output_type": "stream",
     "text": [
      "C:\\Users\\user\\Downloads\\cs474-master (5)\\cs474-final\\src\\ipython\n"
     ]
    },
    {
     "name": "stderr",
     "output_type": "stream",
     "text": [
      "C:\\Users\\user\\Anaconda2\\lib\\site-packages\\gensim\\utils.py:860: UserWarning: detected Windows; aliasing chunkize to chunkize_serial\n",
      "  warnings.warn(\"detected Windows; aliasing chunkize to chunkize_serial\")\n"
     ]
    }
   ],
   "source": [
    "import sys\n",
    "import os\n",
    "print os.getcwd()\n",
    "src_path = os.path.abspath(os.getcwd() + '/../../')\n",
    "sys.path.insert(0, src_path)\n",
    "\n",
    "from src import text_to_vector\n",
    "from src import measurements\n",
    "\n",
    "from src import preprocessing\n",
    "from src import pre_task_bc_lda as pre\n"
   ]
  },
  {
   "cell_type": "markdown",
   "metadata": {},
   "source": [
    "# Experiment: Words as vectors"
   ]
  },
  {
   "cell_type": "markdown",
   "metadata": {},
   "source": [
    "For this experiment following classifiers are used to predict polarity:\n",
    "* Logistic regression\n",
    "* Multinomial NB"
   ]
  },
  {
   "cell_type": "markdown",
   "metadata": {},
   "source": [
    "## Load the Data"
   ]
  },
  {
   "cell_type": "code",
   "execution_count": 4,
   "metadata": {},
   "outputs": [
    {
     "name": "stderr",
     "output_type": "stream",
     "text": [
      "100%|████████████████████████████████| 11633/11633 [00:00<00:00, 290825.28it/s]\n",
      "100%|████████████████████████████████| 16341/16341 [00:00<00:00, 251400.70it/s]\n"
     ]
    }
   ],
   "source": [
    "train = \"train\"\n",
    "test = \"test\"\n",
    "\n",
    "train_a = preprocessing.open_preprocess_file(train, \"A\")\n",
    "test_a = preprocessing.open_preprocess_file(test, \"A\")\n"
   ]
  },
  {
   "cell_type": "markdown",
   "metadata": {},
   "source": [
    "## Preprocess and convert into bag of words vector representation"
   ]
  },
  {
   "cell_type": "code",
   "execution_count": 5,
   "metadata": {},
   "outputs": [
    {
     "name": "stderr",
     "output_type": "stream",
     "text": [
      "100%|███████████████████████████████████| 11633/11633 [00:52<00:00, 223.09it/s]\n",
      "100%|██████████████████████████████████| 11633/11633 [00:09<00:00, 1222.34it/s]\n",
      "100%|██████████████████████████████████| 11633/11633 [00:01<00:00, 7050.30it/s]\n"
     ]
    },
    {
     "name": "stdout",
     "output_type": "stream",
     "text": [
      "done in 0.000000s.\n"
     ]
    }
   ],
   "source": [
    "text = train_a['CLEANED']\n",
    "polarity = train_a['POLARITY']\n",
    "test=test_a['CLEANED']\n",
    "polarity_t=test_a['POLARITY']\n",
    "\n",
    "# --- preprocess\n",
    "tokens_arr, sents_arr = preprocessing.preprocess(text)\n",
    "vectorizer = text_to_vector.count_vectorizer()\n",
    "\n",
    "bow_vectorizer = text_to_vector.fit_to_vectorizer(vectorizer, sents_arr)"
   ]
  },
  {
   "cell_type": "markdown",
   "metadata": {},
   "source": [
    "## Training with logistic regression"
   ]
  },
  {
   "cell_type": "code",
   "execution_count": 6,
   "metadata": {},
   "outputs": [
    {
     "name": "stdout",
     "output_type": "stream",
     "text": [
      "total polarity split train\n",
      "positive    4525\n",
      "neutral     3430\n",
      "negative    1351\n",
      "Name: POLARITY, dtype: int64\n",
      "total polarity split test\n",
      "positive    1100\n",
      "neutral      892\n",
      "negative     335\n",
      "Name: POLARITY, dtype: int64\n"
     ]
    },
    {
     "name": "stderr",
     "output_type": "stream",
     "text": [
      "C:\\Users\\user\\Anaconda2\\lib\\site-packages\\sklearn\\linear_model\\sag.py:326: ConvergenceWarning: The max_iter was reached which means the coef_ did not converge\n",
      "  \"the coef_ did not converge\", ConvergenceWarning)\n"
     ]
    },
    {
     "name": "stdout",
     "output_type": "stream",
     "text": [
      ">> model score: \n",
      "0.585302965191\n",
      ">> model report: \n",
      "      POLARITY PREDICTION\n",
      "0      neutral    neutral\n",
      "1      neutral    neutral\n",
      "2      neutral   positive\n",
      "3     positive    neutral\n",
      "4      neutral   positive\n",
      "5     positive   positive\n",
      "6     positive    neutral\n",
      "7      neutral   positive\n",
      "8     negative   negative\n",
      "9     negative   positive\n",
      "10     neutral    neutral\n",
      "11    positive    neutral\n",
      "12     neutral    neutral\n",
      "13    negative    neutral\n",
      "14     neutral   positive\n",
      "15    negative    neutral\n",
      "16     neutral   positive\n",
      "17     neutral    neutral\n",
      "18    positive   positive\n",
      "19    positive    neutral\n",
      "20    positive   positive\n",
      "21     neutral   positive\n",
      "22     neutral    neutral\n",
      "23    positive   positive\n",
      "24    positive    neutral\n",
      "25     neutral   positive\n",
      "26    positive    neutral\n",
      "27    negative    neutral\n",
      "28    positive   positive\n",
      "29     neutral    neutral\n",
      "...        ...        ...\n",
      "2297  positive   positive\n",
      "2298  negative   positive\n",
      "2299  positive   positive\n",
      "2300  positive   positive\n",
      "2301   neutral    neutral\n",
      "2302  negative    neutral\n",
      "2303  positive   positive\n",
      "2304   neutral   positive\n",
      "2305   neutral    neutral\n",
      "2306   neutral    neutral\n",
      "2307  positive   positive\n",
      "2308   neutral   positive\n",
      "2309   neutral    neutral\n",
      "2310   neutral    neutral\n",
      "2311  positive   positive\n",
      "2312   neutral    neutral\n",
      "2313  positive   positive\n",
      "2314  positive   positive\n",
      "2315  positive    neutral\n",
      "2316   neutral    neutral\n",
      "2317   neutral    neutral\n",
      "2318   neutral    neutral\n",
      "2319   neutral    neutral\n",
      "2320  positive   positive\n",
      "2321  negative   negative\n",
      "2322   neutral    neutral\n",
      "2323  positive   positive\n",
      "2324   neutral   positive\n",
      "2325  negative   negative\n",
      "2326  positive    neutral\n",
      "\n",
      "[2327 rows x 2 columns]\n",
      "             precision    recall  f1-score   support\n",
      "\n",
      "   negative       0.43      0.23      0.30       335\n",
      "    neutral       0.53      0.55      0.54       892\n",
      "   positive       0.65      0.72      0.69      1100\n",
      "\n",
      "avg / total       0.57      0.59      0.57      2327\n",
      "\n"
     ]
    }
   ],
   "source": [
    "train_model =pre.classify('logres',bow_vectorizer, polarity,multi=True, tuning=False)"
   ]
  },
  {
   "cell_type": "markdown",
   "metadata": {},
   "source": [
    "## Preproces Test data, convert into vector representation and test model"
   ]
  },
  {
   "cell_type": "code",
   "execution_count": 13,
   "metadata": {},
   "outputs": [
    {
     "name": "stderr",
     "output_type": "stream",
     "text": [
      "100%|███████████████████████████████████| 16341/16341 [01:05<00:00, 247.82it/s]\n",
      "100%|██████████████████████████████████| 16341/16341 [00:02<00:00, 5586.67it/s]\n",
      "100%|█████████████████████████████████| 16341/16341 [00:01<00:00, 11849.89it/s]\n"
     ]
    },
    {
     "name": "stdout",
     "output_type": "stream",
     "text": [
      ">> model score: \n",
      "0.571507251698\n",
      ">> model report: \n",
      "       POLARITY PREDICTION\n",
      "0       neutral    neutral\n",
      "1       neutral    neutral\n",
      "2       neutral    neutral\n",
      "3      positive   positive\n",
      "4      positive   positive\n",
      "5      positive   positive\n",
      "6       neutral    neutral\n",
      "7      positive   positive\n",
      "8       neutral    neutral\n",
      "9       neutral    neutral\n",
      "10      neutral   positive\n",
      "11      neutral    neutral\n",
      "12      neutral    neutral\n",
      "13     positive   positive\n",
      "14      neutral   positive\n",
      "15      neutral   positive\n",
      "16      neutral    neutral\n",
      "17      neutral    neutral\n",
      "18      neutral    neutral\n",
      "19     positive    neutral\n",
      "20      neutral    neutral\n",
      "21     positive   positive\n",
      "22     positive   positive\n",
      "23     positive   positive\n",
      "24      neutral    neutral\n",
      "25      neutral   positive\n",
      "26     positive   positive\n",
      "27      neutral    neutral\n",
      "28     positive   positive\n",
      "29      neutral    neutral\n",
      "...         ...        ...\n",
      "16311  positive    neutral\n",
      "16312   neutral    neutral\n",
      "16313  negative   positive\n",
      "16314  negative    neutral\n",
      "16315   neutral   positive\n",
      "16316   neutral    neutral\n",
      "16317   neutral    neutral\n",
      "16318  negative   positive\n",
      "16319  positive   positive\n",
      "16320  positive    neutral\n",
      "16321  negative   positive\n",
      "16322  positive    neutral\n",
      "16323   neutral    neutral\n",
      "16324   neutral    neutral\n",
      "16325   neutral    neutral\n",
      "16326  positive   positive\n",
      "16327   neutral   positive\n",
      "16328  positive    neutral\n",
      "16329  positive    neutral\n",
      "16330   neutral    neutral\n",
      "16331   neutral    neutral\n",
      "16332   neutral   negative\n",
      "16333   neutral   positive\n",
      "16334   neutral    neutral\n",
      "16335   neutral   positive\n",
      "16336   neutral    neutral\n",
      "16337  positive    neutral\n",
      "16338   neutral    neutral\n",
      "16339  negative   positive\n",
      "16340   neutral    neutral\n",
      "\n",
      "[16341 rows x 2 columns]\n",
      "             precision    recall  f1-score   support\n",
      "\n",
      "   negative       0.30      0.12      0.17      2434\n",
      "    neutral       0.61      0.67      0.64      8249\n",
      "   positive       0.56      0.62      0.59      5658\n",
      "\n",
      "avg / total       0.55      0.57      0.55     16341\n",
      "\n",
      ">> accuracy:\n",
      "0.571507251698\n",
      ">> average recall:\n",
      "0.471150923579\n",
      ">> f_pn:\n",
      "0.501210998718\n"
     ]
    },
    {
     "data": {
      "text/plain": [
       "0.501210998717766"
      ]
     },
     "execution_count": 13,
     "metadata": {},
     "output_type": "execute_result"
    }
   ],
   "source": [
    "tokens_arr, test_sents_arr = preprocessing.preprocess(test)\n",
    "bow_vectorizer_test = text_to_vector.transform_text(vectorizer, test_sents_arr)\n",
    "prediction = measurements.predict(bow_vectorizer_test, polarity_t, train_model)\n",
    "measurements.get_accuracy(prediction)\n",
    "measurements.avg_recall(prediction)\n",
    "measurements.f_pn_measurement(prediction)"
   ]
  },
  {
   "cell_type": "markdown",
   "metadata": {},
   "source": [
    "## Training with MultinomialNB"
   ]
  },
  {
   "cell_type": "code",
   "execution_count": 9,
   "metadata": {},
   "outputs": [
    {
     "name": "stdout",
     "output_type": "stream",
     "text": [
      "total polarity split train\n",
      "positive    2837\n",
      "neutral     2127\n",
      "negative     852\n",
      "Name: POLARITY, dtype: int64\n",
      "total polarity split test\n",
      "positive    2788\n",
      "neutral     2195\n",
      "negative     834\n",
      "Name: POLARITY, dtype: int64\n",
      "# Tuning hyper-parameters\n",
      "\n"
     ]
    },
    {
     "name": "stderr",
     "output_type": "stream",
     "text": [
      "C:\\Users\\user\\Anaconda2\\lib\\site-packages\\sklearn\\naive_bayes.py:472: UserWarning: alpha too small will result in numeric errors, setting alpha = 1.0e-10\n",
      "  'setting alpha = %.1e' % _ALPHA_MIN)\n"
     ]
    },
    {
     "name": "stdout",
     "output_type": "stream",
     "text": [
      "Best parameters set found on development set:\n",
      "MultinomialNB(alpha=0.6, class_prior=None, fit_prior=True)\n",
      "\n",
      "Detailed classification report:\n",
      "\n",
      "The model is trained on the full development set.\n",
      "The scores are computed on the full evaluation set.\n",
      "\n",
      ">> model score: \n",
      "0.562714776632\n",
      ">> model report: \n",
      "      POLARITY PREDICTION\n",
      "0     negative   negative\n",
      "1     positive   positive\n",
      "2     positive   positive\n",
      "3     negative   negative\n",
      "4     positive   positive\n",
      "5      neutral   negative\n",
      "6      neutral   negative\n",
      "7     positive   positive\n",
      "8     positive   positive\n",
      "9      neutral    neutral\n",
      "10     neutral   positive\n",
      "11    positive   positive\n",
      "12    positive   positive\n",
      "13    positive   positive\n",
      "14    negative   positive\n",
      "15    positive   positive\n",
      "16    positive   positive\n",
      "17    negative   negative\n",
      "18    positive   positive\n",
      "19     neutral    neutral\n",
      "20     neutral    neutral\n",
      "21    positive   positive\n",
      "22    positive    neutral\n",
      "23    positive   positive\n",
      "24     neutral   positive\n",
      "25     neutral    neutral\n",
      "26    positive   positive\n",
      "27     neutral   positive\n",
      "28    positive   positive\n",
      "29     neutral    neutral\n",
      "...        ...        ...\n",
      "1134   neutral    neutral\n",
      "1135  negative    neutral\n",
      "1136  positive   positive\n",
      "1137  positive    neutral\n",
      "1138  positive   positive\n",
      "1139  negative   positive\n",
      "1140  positive    neutral\n",
      "1141   neutral   positive\n",
      "1142  positive   positive\n",
      "1143  positive   positive\n",
      "1144  positive   positive\n",
      "1145   neutral   positive\n",
      "1146  negative   negative\n",
      "1147  positive   positive\n",
      "1148   neutral    neutral\n",
      "1149  positive   positive\n",
      "1150   neutral    neutral\n",
      "1151   neutral   positive\n",
      "1152  positive   positive\n",
      "1153  positive   positive\n",
      "1154   neutral   positive\n",
      "1155   neutral   positive\n",
      "1156  positive   positive\n",
      "1157   neutral   positive\n",
      "1158   neutral   positive\n",
      "1159   neutral   positive\n",
      "1160  positive   positive\n",
      "1161  positive   positive\n",
      "1162  positive   positive\n",
      "1163   neutral    neutral\n",
      "\n",
      "[1164 rows x 2 columns]\n",
      "             precision    recall  f1-score   support\n",
      "\n",
      "   negative       0.37      0.26      0.31       180\n",
      "    neutral       0.49      0.50      0.50       425\n",
      "   positive       0.65      0.71      0.68       559\n",
      "\n",
      "avg / total       0.55      0.56      0.55      1164\n",
      "\n",
      "{'scoring': None, 'n_jobs': 1, 'verbose': 0, 'fit_params': None, 'estimator__fit_prior': True, 'refit': True, 'pre_dispatch': '2*n_jobs', 'return_train_score': True, 'iid': True, 'estimator': MultinomialNB(alpha=1.0, class_prior=None, fit_prior=True), 'error_score': 'raise', 'estimator__alpha': 1.0, 'param_grid': [{'alpha': [0.0, 0.1, 0.2, 0.3, 0.4, 0.5, 0.6, 0.7, 0.8, 0.9, 0.9, 0.8, 0.0], 'fit_prior': [True, False, True, False, True]}], 'cv': 5, 'estimator__class_prior': None}\n",
      ">> model score: \n",
      "0.568334192883\n",
      ">> model report: \n",
      "      POLARITY PREDICTION\n",
      "0      neutral    neutral\n",
      "1      neutral    neutral\n",
      "2      neutral   positive\n",
      "3     positive    neutral\n",
      "4      neutral    neutral\n",
      "5     positive    neutral\n",
      "6     positive    neutral\n",
      "7      neutral   positive\n",
      "8     negative    neutral\n",
      "9     negative   positive\n",
      "10     neutral   positive\n",
      "11    positive    neutral\n",
      "12     neutral   negative\n",
      "13    negative    neutral\n",
      "14     neutral   positive\n",
      "15    negative    neutral\n",
      "16     neutral   positive\n",
      "17     neutral    neutral\n",
      "18    positive   positive\n",
      "19    positive    neutral\n",
      "20    positive   positive\n",
      "21     neutral   positive\n",
      "22     neutral   positive\n",
      "23    positive    neutral\n",
      "24    positive    neutral\n",
      "25     neutral   positive\n",
      "26    positive   positive\n",
      "27    negative    neutral\n",
      "28    positive    neutral\n",
      "29     neutral    neutral\n",
      "...        ...        ...\n",
      "5787   neutral   positive\n",
      "5788  negative   negative\n",
      "5789  positive    neutral\n",
      "5790  positive   positive\n",
      "5791  positive    neutral\n",
      "5792  negative   positive\n",
      "5793  positive   positive\n",
      "5794  positive   positive\n",
      "5795   neutral   positive\n",
      "5796   neutral   positive\n",
      "5797  positive   positive\n",
      "5798  positive   positive\n",
      "5799  positive   positive\n",
      "5800  positive   positive\n",
      "5801   neutral   negative\n",
      "5802  positive   positive\n",
      "5803  negative   positive\n",
      "5804  positive   positive\n",
      "5805  positive   positive\n",
      "5806   neutral   positive\n",
      "5807  positive    neutral\n",
      "5808   neutral   positive\n",
      "5809  negative    neutral\n",
      "5810  negative    neutral\n",
      "5811  negative   negative\n",
      "5812  positive    neutral\n",
      "5813  positive   positive\n",
      "5814  positive   positive\n",
      "5815   neutral   positive\n",
      "5816   neutral    neutral\n",
      "\n",
      "[5817 rows x 2 columns]\n",
      "             precision    recall  f1-score   support\n",
      "\n",
      "   negative       0.36      0.26      0.30       834\n",
      "    neutral       0.51      0.50      0.51      2195\n",
      "   positive       0.65      0.71      0.68      2788\n",
      "\n",
      "avg / total       0.56      0.57      0.56      5817\n",
      "\n"
     ]
    }
   ],
   "source": [
    "train_model_mnb =pre.classify('mnb',bow_vectorizer, polarity,multi=True, tuning=False)"
   ]
  },
  {
   "cell_type": "markdown",
   "metadata": {},
   "source": [
    "## Testing Multinomial Naive Bayesian model"
   ]
  },
  {
   "cell_type": "code",
   "execution_count": 12,
   "metadata": {},
   "outputs": [
    {
     "name": "stdout",
     "output_type": "stream",
     "text": [
      ">> model score: \n",
      "0.530200110152\n",
      ">> model report: \n",
      "       POLARITY PREDICTION\n",
      "0       neutral    neutral\n",
      "1       neutral    neutral\n",
      "2       neutral   positive\n",
      "3      positive   negative\n",
      "4      positive   positive\n",
      "5      positive   positive\n",
      "6       neutral    neutral\n",
      "7      positive   positive\n",
      "8       neutral    neutral\n",
      "9       neutral    neutral\n",
      "10      neutral    neutral\n",
      "11      neutral   positive\n",
      "12      neutral    neutral\n",
      "13     positive    neutral\n",
      "14      neutral   positive\n",
      "15      neutral   positive\n",
      "16      neutral    neutral\n",
      "17      neutral    neutral\n",
      "18      neutral    neutral\n",
      "19     positive   positive\n",
      "20      neutral   positive\n",
      "21     positive    neutral\n",
      "22     positive   positive\n",
      "23     positive   positive\n",
      "24      neutral    neutral\n",
      "25      neutral   positive\n",
      "26     positive   positive\n",
      "27      neutral   positive\n",
      "28     positive   positive\n",
      "29      neutral    neutral\n",
      "...         ...        ...\n",
      "16311  positive   positive\n",
      "16312   neutral   negative\n",
      "16313  negative   positive\n",
      "16314  negative   positive\n",
      "16315   neutral    neutral\n",
      "16316   neutral   positive\n",
      "16317   neutral    neutral\n",
      "16318  negative   positive\n",
      "16319  positive   positive\n",
      "16320  positive   negative\n",
      "16321  negative   positive\n",
      "16322  positive    neutral\n",
      "16323   neutral   positive\n",
      "16324   neutral    neutral\n",
      "16325   neutral    neutral\n",
      "16326  positive   positive\n",
      "16327   neutral   positive\n",
      "16328  positive    neutral\n",
      "16329  positive    neutral\n",
      "16330   neutral    neutral\n",
      "16331   neutral   positive\n",
      "16332   neutral   positive\n",
      "16333   neutral    neutral\n",
      "16334   neutral    neutral\n",
      "16335   neutral   positive\n",
      "16336   neutral    neutral\n",
      "16337  positive   positive\n",
      "16338   neutral   negative\n",
      "16339  negative   positive\n",
      "16340   neutral   positive\n",
      "\n",
      "[16341 rows x 2 columns]\n",
      "             precision    recall  f1-score   support\n",
      "\n",
      "   negative       0.31      0.11      0.16      2434\n",
      "    neutral       0.65      0.50      0.56      8249\n",
      "   positive       0.47      0.76      0.58      5658\n",
      "\n",
      "avg / total       0.54      0.53      0.51     16341\n",
      "\n",
      ">> accuracy:\n",
      "0.530200110152\n",
      ">> average recall:\n",
      "0.455718041298\n",
      ">> f_pn:\n",
      "0.527074477915\n"
     ]
    },
    {
     "data": {
      "text/plain": [
       "0.5270744779153576"
      ]
     },
     "execution_count": 12,
     "metadata": {},
     "output_type": "execute_result"
    }
   ],
   "source": [
    "prediction = measurements.predict(bow_vectorizer_test, polarity_t, train_model_mnb)\n",
    "measurements.get_accuracy(prediction)\n",
    "measurements.avg_recall(prediction)\n",
    "measurements.f_pn_measurement(prediction)"
   ]
  },
  {
   "cell_type": "code",
   "execution_count": null,
   "metadata": {
    "collapsed": true
   },
   "outputs": [],
   "source": []
  }
 ],
 "metadata": {
  "kernelspec": {
   "display_name": "Python 2",
   "language": "python",
   "name": "python2"
  },
  "language_info": {
   "codemirror_mode": {
    "name": "ipython",
    "version": 2
   },
   "file_extension": ".py",
   "mimetype": "text/x-python",
   "name": "python",
   "nbconvert_exporter": "python",
   "pygments_lexer": "ipython2",
   "version": "2.7.13"
  }
 },
 "nbformat": 4,
 "nbformat_minor": 2
}
