{
 "cells": [
  {
   "cell_type": "code",
   "execution_count": 1,
   "metadata": {},
   "outputs": [],
   "source": [
    "%load_ext autoreload\n",
    "%autoreload 2"
   ]
  },
  {
   "cell_type": "code",
   "execution_count": 2,
   "metadata": {},
   "outputs": [
    {
     "name": "stdout",
     "output_type": "stream",
     "text": [
      "/Users/munde/PycharmProjects/cs474/src/ipython\n"
     ]
    }
   ],
   "source": [
    "import sys\n",
    "import os\n",
    "print os.getcwd()\n",
    "src_path = os.path.abspath(os.getcwd() + '/../../')\n",
    "sys.path.insert(0, src_path)\n",
    "\n",
    "import src.pre_task_bc_lda as pre\n",
    "import src.measurements as m"
   ]
  },
  {
   "cell_type": "code",
   "execution_count": 4,
   "metadata": {},
   "outputs": [
    {
     "name": "stderr",
     "output_type": "stream",
     "text": [
      "100%|██████████| 8007/8007 [00:00<00:00, 139511.61it/s]\n"
     ]
    }
   ],
   "source": [
    "dataset = 'C'\n",
    "input_from_file = pre.get_data('train', dataset)"
   ]
  },
  {
   "cell_type": "code",
   "execution_count": 5,
   "metadata": {},
   "outputs": [
    {
     "name": "stderr",
     "output_type": "stream",
     "text": [
      "100%|██████████| 16343/16343 [00:00<00:00, 115561.13it/s]\n"
     ]
    }
   ],
   "source": [
    "test_set = pre.get_data('test', dataset)"
   ]
  },
  {
   "cell_type": "code",
   "execution_count": null,
   "metadata": {},
   "outputs": [],
   "source": []
  }
 ],
 "metadata": {
  "kernelspec": {
   "display_name": "Python 2",
   "language": "python",
   "name": "python2"
  },
  "language_info": {
   "codemirror_mode": {
    "name": "ipython",
    "version": 2
   },
   "file_extension": ".py",
   "mimetype": "text/x-python",
   "name": "python",
   "nbconvert_exporter": "python",
   "pygments_lexer": "ipython2",
   "version": "2.7.10"
  }
 },
 "nbformat": 4,
 "nbformat_minor": 2
}
